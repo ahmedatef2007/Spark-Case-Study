{
 "cells": [
  {
   "cell_type": "code",
   "execution_count": 2,
   "id": "11dc6bb9-df7d-4deb-a8e3-9912e8009e02",
   "metadata": {},
   "outputs": [],
   "source": [
    "from pyspark.sql import SparkSession\n",
    "from pyspark.sql.functions import *\n",
    "from pyspark.sql.types import *\n",
    "from datetime import datetime, timedelta\n",
    "import subprocess"
   ]
  },
  {
   "cell_type": "code",
   "execution_count": 3,
   "id": "33898de5-c238-4e9f-a70a-8bc9fea29b3f",
   "metadata": {},
   "outputs": [],
   "source": [
    "# Initialize SparkSession\n",
    "spark = SparkSession.builder.appName(\"BusinessQueries\").enableHiveSupport().getOrCreate()"
   ]
  },
  {
   "cell_type": "code",
   "execution_count": 4,
   "id": "42e7e452-6de0-4e86-871d-ffc3b229ff45",
   "metadata": {},
   "outputs": [
    {
     "data": {
      "text/html": [
       "<table border='1'>\n",
       "<tr><th></th></tr>\n",
       "</table>\n"
      ],
      "text/plain": [
       "++\n",
       "||\n",
       "++\n",
       "++"
      ]
     },
     "execution_count": 4,
     "metadata": {},
     "output_type": "execute_result"
    }
   ],
   "source": [
    "spark.sql(\"USE iti_dwh\")"
   ]
  },
  {
   "cell_type": "code",
   "execution_count": 5,
   "id": "0aed3705-90c8-4c55-8a9d-e1b0af259f71",
   "metadata": {},
   "outputs": [
    {
     "data": {
      "text/html": [
       "<table border='1'>\n",
       "<tr><th>product_id</th><th>product_name</th><th>total_units_sold</th></tr>\n",
       "<tr><td>22</td><td>Coffee Maker</td><td>379</td></tr>\n",
       "<tr><td>25</td><td>Washing Machine</td><td>365</td></tr>\n",
       "<tr><td>9</td><td>Boots</td><td>337</td></tr>\n",
       "<tr><td>7</td><td>Dress</td><td>336</td></tr>\n",
       "<tr><td>27</td><td>Iron</td><td>322</td></tr>\n",
       "<tr><td>17</td><td>Blouse</td><td>319</td></tr>\n",
       "<tr><td>28</td><td>Hair Dryer</td><td>308</td></tr>\n",
       "<tr><td>1</td><td>Laptop</td><td>306</td></tr>\n",
       "<tr><td>24</td><td>Blender</td><td>305</td></tr>\n",
       "<tr><td>6</td><td>Jeans</td><td>302</td></tr>\n",
       "<tr><td>29</td><td>Hair Straightener</td><td>296</td></tr>\n",
       "<tr><td>19</td><td>Sandals</td><td>296</td></tr>\n",
       "<tr><td>20</td><td>Heels</td><td>293</td></tr>\n",
       "<tr><td>5</td><td>T-Shirt</td><td>283</td></tr>\n",
       "<tr><td>11</td><td>TV</td><td>277</td></tr>\n",
       "<tr><td>23</td><td>Toaster</td><td>273</td></tr>\n",
       "<tr><td>14</td><td>Camera</td><td>265</td></tr>\n",
       "<tr><td>13</td><td>Printer</td><td>260</td></tr>\n",
       "<tr><td>3</td><td>Tablet</td><td>258</td></tr>\n",
       "<tr><td>2</td><td>Smartphone</td><td>250</td></tr>\n",
       "</table>\n",
       "only showing top 20 rows\n"
      ],
      "text/plain": [
       "+----------+-----------------+----------------+\n",
       "|product_id|     product_name|total_units_sold|\n",
       "+----------+-----------------+----------------+\n",
       "|        22|     Coffee Maker|             379|\n",
       "|        25|  Washing Machine|             365|\n",
       "|         9|            Boots|             337|\n",
       "|         7|            Dress|             336|\n",
       "|        27|             Iron|             322|\n",
       "|        17|           Blouse|             319|\n",
       "|        28|       Hair Dryer|             308|\n",
       "|         1|           Laptop|             306|\n",
       "|        24|          Blender|             305|\n",
       "|         6|            Jeans|             302|\n",
       "|        29|Hair Straightener|             296|\n",
       "|        19|          Sandals|             296|\n",
       "|        20|            Heels|             293|\n",
       "|         5|          T-Shirt|             283|\n",
       "|        11|               TV|             277|\n",
       "|        23|          Toaster|             273|\n",
       "|        14|           Camera|             265|\n",
       "|        13|          Printer|             260|\n",
       "|         3|           Tablet|             258|\n",
       "|         2|       Smartphone|             250|\n",
       "+----------+-----------------+----------------+\n",
       "only showing top 20 rows"
      ]
     },
     "execution_count": 5,
     "metadata": {},
     "output_type": "execute_result"
    }
   ],
   "source": [
    "#most selling products\n",
    "spark.sql(f\"\"\"\n",
    "    SELECT \n",
    "        p.product_id, \n",
    "        p.product_name, \n",
    "        SUM(s.units) AS total_units_sold\n",
    "    FROM \n",
    "        sales_transactions_fact s\n",
    "    JOIN \n",
    "        product_dim p \n",
    "    ON \n",
    "        s.product_id = p.product_id\n",
    "    GROUP BY \n",
    "        p.product_id, p.product_name\n",
    "    ORDER BY \n",
    "        total_units_sold DESC\n",
    "\"\"\")\n"
   ]
  },
  {
   "cell_type": "code",
   "execution_count": 5,
   "id": "f3779632-380f-4fca-bafc-e3a88b3fbd44",
   "metadata": {},
   "outputs": [
    {
     "data": {
      "text/html": [
       "<table border='1'>\n",
       "<tr><th>city</th><th>total_online_sales</th></tr>\n",
       "<tr><td>Port Charlotte</td><td>151.962</td></tr>\n",
       "<tr><td>Colchester</td><td>151.962</td></tr>\n",
       "<tr><td>Scituate</td><td>299.99</td></tr>\n",
       "<tr><td>Lawrence</td><td>299.99</td></tr>\n",
       "<tr><td>San Luis Obispo</td><td>323.4805</td></tr>\n",
       "<tr><td>Concord</td><td>339.83</td></tr>\n",
       "<tr><td>Mexico Beach</td><td>569.905</td></tr>\n",
       "<tr><td>Duxbury</td><td>573.809</td></tr>\n",
       "<tr><td>Dummerston</td><td>573.809</td></tr>\n",
       "<tr><td>Richmond</td><td>925.8910000000001</td></tr>\n",
       "<tr><td>Alameda</td><td>925.8910000000001</td></tr>\n",
       "<tr><td>Plymouth</td><td>1441.853</td></tr>\n",
       "<tr><td>Palm Bay</td><td>1517.3159999999998</td></tr>\n",
       "<tr><td>Saugus</td><td>1582.323</td></tr>\n",
       "<tr><td>Middleborough</td><td>1674.9675</td></tr>\n",
       "<tr><td>Cupertino</td><td>1719.73</td></tr>\n",
       "<tr><td>Dublin</td><td>1720.8585</td></tr>\n",
       "<tr><td>Santa Rosa</td><td>1720.8585</td></tr>\n",
       "<tr><td>Lowell</td><td>1724.9615</td></tr>\n",
       "<tr><td>Quincy</td><td>1737.3355000000001</td></tr>\n",
       "</table>\n",
       "only showing top 20 rows\n"
      ],
      "text/plain": [
       "+---------------+------------------+\n",
       "|           city|total_online_sales|\n",
       "+---------------+------------------+\n",
       "| Port Charlotte|           151.962|\n",
       "|     Colchester|           151.962|\n",
       "|       Scituate|            299.99|\n",
       "|       Lawrence|            299.99|\n",
       "|San Luis Obispo|          323.4805|\n",
       "|        Concord|            339.83|\n",
       "|   Mexico Beach|           569.905|\n",
       "|     Dummerston|           573.809|\n",
       "|        Duxbury|           573.809|\n",
       "|        Alameda| 925.8910000000001|\n",
       "|       Richmond| 925.8910000000001|\n",
       "|       Plymouth|          1441.853|\n",
       "|       Palm Bay|1517.3160000000003|\n",
       "|         Saugus|          1582.323|\n",
       "|  Middleborough|         1674.9675|\n",
       "|      Cupertino|           1719.73|\n",
       "|         Dublin|         1720.8585|\n",
       "|     Santa Rosa|         1720.8585|\n",
       "|         Lowell|         1724.9615|\n",
       "|         Quincy|1737.3355000000001|\n",
       "+---------------+------------------+\n",
       "only showing top 20 rows"
      ]
     },
     "execution_count": 5,
     "metadata": {},
     "output_type": "execute_result"
    }
   ],
   "source": [
    "#lowest city in online sales\n",
    "spark.sql(f\"\"\"\n",
    "    SELECT \n",
    "        c.city, \n",
    "        SUM(s.total_paid_price) AS total_online_sales\n",
    "    FROM \n",
    "        sales_transactions_fact s\n",
    "    JOIN \n",
    "        customer_dim c \n",
    "    ON \n",
    "        s.customer_id = c.customer_id\n",
    "    where is_online = true\n",
    "    GROUP BY \n",
    "        c.city\n",
    "    ORDER BY \n",
    "        total_online_sales ASC\n",
    "\"\"\")\n"
   ]
  },
  {
   "cell_type": "code",
   "execution_count": 6,
   "id": "1bbd7549-aef5-4f34-b519-e662dd92dcb7",
   "metadata": {},
   "outputs": [
    {
     "data": {
      "text/html": [
       "<table border='1'>\n",
       "<tr><th>discount_percentage</th><th>number_of_sales</th></tr>\n",
       "<tr><td>0.0</td><td>747</td></tr>\n",
       "<tr><td>20.0</td><td>168</td></tr>\n",
       "<tr><td>15.0</td><td>162</td></tr>\n",
       "<tr><td>10.0</td><td>151</td></tr>\n",
       "<tr><td>5.0</td><td>138</td></tr>\n",
       "<tr><td>25.0</td><td>134</td></tr>\n",
       "</table>\n"
      ],
      "text/plain": [
       "+-------------------+---------------+\n",
       "|discount_percentage|number_of_sales|\n",
       "+-------------------+---------------+\n",
       "|                0.0|            747|\n",
       "|               20.0|            168|\n",
       "|               15.0|            162|\n",
       "|               10.0|            151|\n",
       "|                5.0|            138|\n",
       "|               25.0|            134|\n",
       "+-------------------+---------------+"
      ]
     },
     "execution_count": 6,
     "metadata": {},
     "output_type": "execute_result"
    }
   ],
   "source": [
    "#most redeemed offers\n",
    "spark.sql(f\"\"\"\n",
    "    SELECT \n",
    "        discount_percentage, \n",
    "        COUNT(*) AS number_of_sales\n",
    "    FROM \n",
    "        sales_transactions_fact\n",
    "    GROUP BY \n",
    "        discount_percentage\n",
    "    ORDER BY \n",
    "        number_of_sales DESC\n",
    "\"\"\")"
   ]
  },
  {
   "cell_type": "code",
   "execution_count": 8,
   "id": "493686ae-6327-44ad-b17b-2e468eb5b90b",
   "metadata": {},
   "outputs": [
    {
     "data": {
      "text/html": [
       "<table border='1'>\n",
       "<tr><th>product_id</th><th>product_name</th><th>discount_percentage</th><th>purchase_count</th></tr>\n",
       "<tr><td>4</td><td>Headphones</td><td>10.0</td><td>20</td></tr>\n",
       "<tr><td>11</td><td>TV</td><td>20.0</td><td>19</td></tr>\n",
       "<tr><td>24</td><td>Blender</td><td>10.0</td><td>19</td></tr>\n",
       "<tr><td>26</td><td>Vacuum Cleaner</td><td>15.0</td><td>19</td></tr>\n",
       "<tr><td>2</td><td>Smartphone</td><td>20.0</td><td>18</td></tr>\n",
       "<tr><td>19</td><td>Sandals</td><td>20.0</td><td>17</td></tr>\n",
       "<tr><td>14</td><td>Camera</td><td>15.0</td><td>17</td></tr>\n",
       "<tr><td>22</td><td>Coffee Maker</td><td>15.0</td><td>16</td></tr>\n",
       "<tr><td>29</td><td>Hair Straightener</td><td>20.0</td><td>15</td></tr>\n",
       "<tr><td>8</td><td>Sneakers</td><td>20.0</td><td>15</td></tr>\n",
       "<tr><td>29</td><td>Hair Straightener</td><td>5.0</td><td>15</td></tr>\n",
       "<tr><td>5</td><td>T-Shirt</td><td>5.0</td><td>14</td></tr>\n",
       "<tr><td>25</td><td>Washing Machine</td><td>10.0</td><td>14</td></tr>\n",
       "<tr><td>6</td><td>Jeans</td><td>5.0</td><td>14</td></tr>\n",
       "<tr><td>29</td><td>Hair Straightener</td><td>15.0</td><td>14</td></tr>\n",
       "<tr><td>18</td><td>Boots</td><td>15.0</td><td>14</td></tr>\n",
       "<tr><td>20</td><td>Heels</td><td>15.0</td><td>13</td></tr>\n",
       "<tr><td>6</td><td>Jeans</td><td>15.0</td><td>13</td></tr>\n",
       "<tr><td>13</td><td>Printer</td><td>20.0</td><td>13</td></tr>\n",
       "<tr><td>22</td><td>Coffee Maker</td><td>10.0</td><td>13</td></tr>\n",
       "</table>\n",
       "only showing top 20 rows\n"
      ],
      "text/plain": [
       "+----------+-----------------+-------------------+--------------+\n",
       "|product_id|     product_name|discount_percentage|purchase_count|\n",
       "+----------+-----------------+-------------------+--------------+\n",
       "|         4|       Headphones|               10.0|            20|\n",
       "|        11|               TV|               20.0|            19|\n",
       "|        26|   Vacuum Cleaner|               15.0|            19|\n",
       "|        24|          Blender|               10.0|            19|\n",
       "|         2|       Smartphone|               20.0|            18|\n",
       "|        14|           Camera|               15.0|            17|\n",
       "|        19|          Sandals|               20.0|            17|\n",
       "|        22|     Coffee Maker|               15.0|            16|\n",
       "|        29|Hair Straightener|                5.0|            15|\n",
       "|         8|         Sneakers|               20.0|            15|\n",
       "|        29|Hair Straightener|               20.0|            15|\n",
       "|         5|          T-Shirt|                5.0|            14|\n",
       "|         6|            Jeans|                5.0|            14|\n",
       "|        18|            Boots|               15.0|            14|\n",
       "|        25|  Washing Machine|               10.0|            14|\n",
       "|        29|Hair Straightener|               15.0|            14|\n",
       "|        23|          Toaster|               20.0|            13|\n",
       "|         6|            Jeans|               15.0|            13|\n",
       "|        22|     Coffee Maker|                5.0|            13|\n",
       "|        13|          Printer|               20.0|            13|\n",
       "+----------+-----------------+-------------------+--------------+\n",
       "only showing top 20 rows"
      ]
     },
     "execution_count": 8,
     "metadata": {},
     "output_type": "execute_result"
    }
   ],
   "source": [
    "#most redeemed offers per product\n",
    "spark.sql(f\"\"\"\n",
    "    SELECT \n",
    "        p.product_id, \n",
    "        p.product_name, \n",
    "        s.discount_percentage, \n",
    "        COUNT(*) AS purchase_count\n",
    "    FROM \n",
    "        sales_transactions_fact s\n",
    "    JOIN \n",
    "        product_dim p \n",
    "    ON \n",
    "        s.product_id = p.product_id\n",
    "    WHERE \n",
    "        s.discount_percentage <> 0\n",
    "    GROUP BY \n",
    "        p.product_id, p.product_name, s.discount_percentage\n",
    "     ORDER BY \n",
    "        purchase_count DESC\n",
    "\"\"\")\n"
   ]
  },
  {
   "cell_type": "code",
   "execution_count": 9,
   "id": "4cea440f-09bc-46b4-8ab7-b73e09289500",
   "metadata": {},
   "outputs": [],
   "source": [
    "spark.stop()"
   ]
  },
  {
   "cell_type": "code",
   "execution_count": null,
   "id": "5d055f28-1860-4d4e-8800-a8ee625af18f",
   "metadata": {},
   "outputs": [],
   "source": []
  }
 ],
 "metadata": {
  "kernelspec": {
   "display_name": "Pyspark 3",
   "language": "python",
   "name": "pyspark3"
  },
  "language_info": {
   "codemirror_mode": {
    "name": "ipython",
    "version": 3
   },
   "file_extension": ".py",
   "mimetype": "text/x-python",
   "name": "python",
   "nbconvert_exporter": "python",
   "pygments_lexer": "ipython3",
   "version": "3.6.9"
  }
 },
 "nbformat": 4,
 "nbformat_minor": 5
}
