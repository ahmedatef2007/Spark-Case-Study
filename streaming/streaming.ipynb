{
 "cells": [
  {
   "cell_type": "code",
   "execution_count": 1,
   "id": "3852d3a4-470d-40b4-8b7f-dfed88248dda",
   "metadata": {},
   "outputs": [],
   "source": [
    "from pyspark.sql import SparkSession\n",
    "from pyspark.sql.functions import from_json, col, to_date, to_timestamp, hour\n",
    "from pyspark.sql.types import StructType, StringType, IntegerType, TimestampType, DoubleType\n",
    "\n",
    "# Create a Spark session\n",
    "spark = SparkSession.builder \\\n",
    "    .appName(\"KafkaStreamingToConsoleExample\") \\\n",
    "    .config(\"spark.jars.packages\", \"org.apache.spark:spark-sql-kafka-0-10_2.11:2.4.8\") \\\n",
    "    .getOrCreate()"
   ]
  },
  {
   "cell_type": "code",
   "execution_count": 2,
   "id": "0a78f899-9417-4456-9f4c-3fdaacaec1c5",
   "metadata": {},
   "outputs": [],
   "source": [
    "# Kafka connection details\n",
    "bootstrap_servers = \"pkc-56d1g.eastus.azure.confluent.cloud:9092\"\n",
    "kafka_topic = \"omar_topic\"\n",
    "kafka_username = \"JUKQQM4ZM632RECA\"\n",
    "kafka_password = \"UUkrPuSttgOC0U9lY3ZansNsKfN9fbxZPFwrGxudDrfv+knTD4rCwK+KdIzVPX0D\"\n",
    "\n",
    "# Define schema for the incoming JSON data\n",
    "schema = StructType() \\\n",
    "    .add(\"eventType\", StringType()) \\\n",
    "    .add(\"customerId\", StringType()) \\\n",
    "    .add(\"productId\", StringType()) \\\n",
    "    .add(\"timestamp\", StringType()) \\\n",
    "    .add(\"metadata\", StructType().add(\"category\", StringType()).add(\"source\", StringType())) \\\n",
    "    .add(\"quantity\", IntegerType()) \\\n",
    "    .add(\"totalAmount\", DoubleType()) \\\n",
    "    .add(\"paymentMethod\", StringType()) \\\n",
    "    .add(\"recommendedProductId\", StringType()) \\\n",
    "    .add(\"algorithm\", StringType())\n",
    "\n",
    "# Read data from Kafka topic as a streaming DataFrame\n",
    "df = spark \\\n",
    "    .readStream \\\n",
    "    .format(\"kafka\") \\\n",
    "    .option(\"kafka.bootstrap.servers\", bootstrap_servers) \\\n",
    "    .option(\"subscribe\", kafka_topic) \\\n",
    "    .option(\"startingOffsets\", \"earliest\") \\\n",
    "    .option(\"kafka.security.protocol\", \"SASL_SSL\") \\\n",
    "    .option(\"kafka.sasl.mechanism\", \"PLAIN\") \\\n",
    "    .option(\"kafka.sasl.jaas.config\",\n",
    "            f'org.apache.kafka.common.security.plain.PlainLoginModule required username=\"{kafka_username}\" password=\"{kafka_password}\";') \\\n",
    "    .load()"
   ]
  },
  {
   "cell_type": "code",
   "execution_count": 3,
   "id": "f04f5f46-f03b-4074-a8ee-f8c7e45921ae",
   "metadata": {},
   "outputs": [],
   "source": [
    "# Parse the JSON data and handle schema variations\n",
    "json_df = df.selectExpr(\"CAST(value AS STRING)\").select(from_json(\"value\", schema).alias(\"data\"))\n",
    "\n",
    "# Flatten the nested structure\n",
    "flattened_df = json_df.select(\n",
    "    col(\"data.eventType\"),\n",
    "    col(\"data.customerId\"),\n",
    "    col(\"data.productId\"),\n",
    "    col(\"data.timestamp\").cast(TimestampType()).alias(\"timestamp\"),\n",
    "    col(\"data.metadata.category\").alias(\"category\"),\n",
    "    col(\"data.metadata.source\").alias(\"source\"),\n",
    "    col(\"data.quantity\"),\n",
    "    col(\"data.totalAmount\"),\n",
    "    col(\"data.paymentMethod\"),\n",
    "    col(\"data.recommendedProductId\"),\n",
    "    col(\"data.algorithm\"),\n",
    "    to_date(col(\"data.timestamp\")).alias(\"event_date\"),\n",
    "    hour(to_timestamp(col(\"data.timestamp\"))).alias(\"event_hour\")\n",
    ")"
   ]
  },
  {
   "cell_type": "code",
   "execution_count": null,
   "id": "c74273f0-c86c-4f1a-b5a1-f9ba83d2872a",
   "metadata": {},
   "outputs": [],
   "source": [
    "# Write data to console\n",
    "query = flattened_df \\\n",
    "    .writeStream \\\n",
    "    .outputMode(\"append\") \\\n",
    "    .format(\"parquet\") \\\n",
    "    .option(\"checkpointLocation\", \"/user/itversity/checkpoints\") \\\n",
    "    .option(\"path\", \"/user/itversity/casestudy/kafkastream\") \\\n",
    "    .partitionBy(\"event_date\", \"event_hour\") \\\n",
    "    .start()\n",
    "\n",
    "query.awaitTermination()"
   ]
  },
  {
   "cell_type": "code",
   "execution_count": null,
   "id": "c466c1a2-5de5-4bd1-a437-0f65c69cf9c4",
   "metadata": {},
   "outputs": [],
   "source": [
    "spark.stop()"
   ]
  },
  {
   "cell_type": "code",
   "execution_count": null,
   "id": "5469f5b9-b09f-4a2f-95e6-14fc3a0e87af",
   "metadata": {},
   "outputs": [],
   "source": []
  }
 ],
 "metadata": {
  "kernelspec": {
   "display_name": "Pyspark 2",
   "language": "python",
   "name": "pyspark2"
  },
  "language_info": {
   "codemirror_mode": {
    "name": "ipython",
    "version": 3
   },
   "file_extension": ".py",
   "mimetype": "text/x-python",
   "name": "python",
   "nbconvert_exporter": "python",
   "pygments_lexer": "ipython3",
   "version": "3.6.9"
  }
 },
 "nbformat": 4,
 "nbformat_minor": 5
}
